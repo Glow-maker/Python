{
 "cells": [
  {
   "cell_type": "code",
   "execution_count": 5,
   "metadata": {},
   "outputs": [],
   "source": [
    "import os\n",
    "import sys\n",
    "import shutil\n",
    "from traceback import print_exc\n",
    "from distutils.core import setup\n",
    "from distutils.extension import Extension\n",
    "\n",
    "from Cython.Build import cythonize\n",
    "from Cython.Distutils import build_ext\n",
    "# 获取相对路径\n",
    "\n"
   ]
  },
  {
   "cell_type": "code",
   "execution_count": 6,
   "metadata": {},
   "outputs": [],
   "source": [
    "def pytoso(name):\n",
    "    try:\n",
    "        if name.endswith('.py'):\n",
    "            sys.argv = ['main.py', \"build_ext\", '--inplace']\n",
    "            module_name = name.split('.')[0]\n",
    "            ext_modules = [\n",
    "                Extension(module_name, [name], extra_compile_args=['-O3']),\n",
    "            ]\n",
    "            relative_dir, _ = os.path.split(name)\n",
    "            setup(\n",
    "                name='MyProgram',\n",
    "                cmdclass={'build_ext': build_ext},\n",
    "                ext_modules=cythonize(ext_modules, language_level=3),\n",
    "                package_dir={'': os.path.join('src', relative_dir)},\n",
    "            )\n",
    "    except Exception as e:\n",
    "        print_exc()\n",
    "        return 1\n",
    "    return 0"
   ]
  },
  {
   "cell_type": "code",
   "execution_count": null,
   "metadata": {},
   "outputs": [],
   "source": [
    "if __name__ == '__main__':\n",
    "\n",
    "    names = []\n",
    "    for root, dirs, files in os.walk('..'):\n",
    "        for name in files:\n",
    "            if name.endswith('.py'):\n",
    "                names.append(os.path.join(root, name))\n",
    "\n",
    "    for name in names:\n",
    "        try:\n",
    "            status = pytoso(name)\n",
    "        except Exception as e:\n",
    "            print_exc()\n",
    "        else:\n",
    "            if status:\n",
    "                print(f'Failed to convert {name}')\n",
    "            else:\n",
    "                print(f'Converted {name}')\n",
    "        finally:\n",
    "            try:\n",
    "                os.remove(f'script_code/{name.replace(\".py\", \".c\")}')\n",
    "            except:\n",
    "                pass\n",
    "    try:\n",
    "        shutil.rmtree('build')\n",
    "    except:\n",
    "        pass\n",
    "\n",
    "    names = []\n",
    "    for root, dirs, files in os.walk('.'):\n",
    "        for name in files:\n",
    "            if not name.endswith('__init__.py'):\n",
    "                names.append(os.path.join(root, name))\n",
    "    for name in names:\n",
    "        if name.endswith('.pyx') or name.endswith('__init__.py'):\n",
    "            relative_dir, filename = os.path.split(name)\n",
    "            if name.endswith('.pyx'):\n",
    "                filename = filename.replace('.pyx', '.so')\n",
    "            initial_path = os.path.join(relative_dir, filename)\n",
    "            try:\n",
    "                shutil.move(initial_path, os.path.join('src', initial_path))\n",
    "            except Exception:\n",
    "                pass\n",
    "        elif name.endswith('.c') or name.endswith('.cpp') or name.endswith('.html'):\n",
    "            try:\n",
    "                os.remove(name)\n",
    "            except:\n",
    "                pass"
   ]
  }
 ],
 "metadata": {
  "kernelspec": {
   "display_name": "cp310",
   "language": "python",
   "name": "python3"
  },
  "language_info": {
   "codemirror_mode": {
    "name": "ipython",
    "version": 3
   },
   "file_extension": ".py",
   "mimetype": "text/x-python",
   "name": "python",
   "nbconvert_exporter": "python",
   "pygments_lexer": "ipython3",
   "version": "3.10.13"
  }
 },
 "nbformat": 4,
 "nbformat_minor": 2
}
