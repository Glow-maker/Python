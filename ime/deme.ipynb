{
 "cells": [
  {
   "cell_type": "code",
   "execution_count": null,
   "metadata": {},
   "outputs": [],
   "source": []
  },
  {
   "cell_type": "code",
   "execution_count": null,
   "metadata": {},
   "outputs": [],
   "source": [
    "import pandas as pd\n",
    "import matplotlib.pyplot as plt\n",
    "import os"
   ]
  },
  {
   "cell_type": "code",
   "execution_count": null,
   "metadata": {},
   "outputs": [],
   "source": [
    "def process_file(file_path):\n",
    "    save_path = file_path + '20240304/image' + file_path.split('/')[-1].replace('.csv', '.png')\n",
    "    try:\n",
    "        # 尝试自动检测分隔符，读取CSV文件\n",
    "        data = pd.read_csv(file_path, sep=None, engine='python')\n",
    "        # 过滤出包含实际电压和电流数据的行\n",
    "        data_values = data[data.iloc[:, 0].str.startswith('DataValue')]\n",
    "        # 分割字符串，转换数据类型\n",
    "        voltage_current_data = data_values.iloc[:, 0].str.split(',', expand=True)\n",
    "        voltage = pd.to_numeric(voltage_current_data[1].str.strip())\n",
    "        current = pd.to_numeric(voltage_current_data[2].str.strip())\n",
    "        # 绘图\n",
    "        plt.figure(figsize=(10, 6))\n",
    "        plt.plot(voltage, current, marker='o', linestyle='-', color='b')\n",
    "        # 为每个点添加注释\n",
    "        plt.title('Voltage vs. Current')\n",
    "        plt.xlabel('Voltage (V)')\n",
    "        plt.ylabel('Current (A)')\n",
    "        plt.grid(True)\n",
    "        # 保存图表\n",
    "        plt.savefig(file_path.replace('.csv', '.png'))\n",
    "        plt.close()\n",
    "    except Exception as e:\n",
    "        print(f\"Error processing {file_path}: {e}\")\n",
    "\n",
    "# 文件所在目录\n",
    "directory = r\"IV_TEST/20240312\"\n",
    "\n",
    "# 遍历目录中的文件\n",
    "for file_name in os.listdir(directory):\n",
    "    if file_name.endswith(\".csv\"):\n",
    "        file_path = os.path.join(directory, file_name)\n",
    "        process_file(file_path)\n"
   ]
  },
  {
   "cell_type": "code",
   "execution_count": null,
   "metadata": {},
   "outputs": [],
   "source": [
    "directory = r\"IV_TEST/20240304\"\n",
    "i=0\n",
    "for file_name in os.listdir(directory):\n",
    "    if file_name.endswith(\".csv\"):\n",
    "        file_path = os.path.join(directory, file_name)\n",
    "        print(file_path)\n",
    "        i += 1\n",
    "\n",
    "print(i)\n",
    "        "
   ]
  },
  {
   "cell_type": "code",
   "execution_count": null,
   "metadata": {},
   "outputs": [],
   "source": [
    "import dash\n",
    "from dash import dcc, html, Input, Output\n",
    "import plotly.graph_objs as go\n",
    "import pandas as pd\n",
    "import os\n",
    "\n",
    "# 你的CSV文件所在的目录\n",
    "directory = r\"IV_TEST/20240304\"\n",
    "\n",
    "# 创建Dash应用\n",
    "app = dash.Dash(__name__)\n",
    "\n",
    "# 获取CSV文件列表\n",
    "csv_files = [f for f in os.listdir(directory) if f.endswith('.csv')]\n",
    "\n",
    "# 应用布局\n",
    "app.layout = html.Div([\n",
    "    dcc.Dropdown(\n",
    "        id='file-dropdown',\n",
    "        options=[{'label': f, 'value': os.path.join(directory, f)} for f in csv_files],\n",
    "        value=None,\n",
    "        placeholder=\"Select a file\"\n",
    "    ),\n",
    "    dcc.Graph(id='voltage-current-graph')\n",
    "])\n",
    "\n",
    "# 回调函数，根据选择的文件名更新图表\n",
    "@app.callback(\n",
    "    Output('voltage-current-graph', 'figure'),\n",
    "    [Input('file-dropdown', 'value')]\n",
    ")\n",
    "def update_graph(selected_file):\n",
    "    if selected_file is None:\n",
    "        return go.Figure()\n",
    "\n",
    "    # 读取CSV文件并提取数据\n",
    "    data = pd.read_csv(selected_file, sep=None, engine='python')\n",
    "    data_values = data[data.iloc[:, 0].str.startswith('DataValue')]\n",
    "    voltage_current_data = data_values.iloc[:, 0].str.split(',', expand=True)\n",
    "    voltage = pd.to_numeric(voltage_current_data[1].str.strip())\n",
    "    current = pd.to_numeric(voltage_current_data[2].str.strip())\n",
    "\n",
    "    # 创建交互式图表\n",
    "    fig = go.Figure(data=go.Scatter(x=voltage, y=current, mode='markers+lines', text=voltage_current_data[1] + \", \" + voltage_current_data[2]))\n",
    "    fig.update_layout(title='Voltage vs. Current', xaxis_title='Voltage (V)', yaxis_title='Current (A)')\n",
    "\n",
    "    return fig\n",
    "\n",
    "if __name__ == '__main__':\n",
    "    app.run_server(debug=True)\n"
   ]
  },
  {
   "cell_type": "code",
   "execution_count": null,
   "metadata": {},
   "outputs": [],
   "source": []
  }
 ],
 "metadata": {
  "kernelspec": {
   "display_name": "python 3.10",
   "language": "python",
   "name": "py310"
  },
  "language_info": {
   "codemirror_mode": {
    "name": "ipython",
    "version": 3
   },
   "file_extension": ".py",
   "mimetype": "text/x-python",
   "name": "python",
   "nbconvert_exporter": "python",
   "pygments_lexer": "ipython3",
   "version": "3.10.13"
  }
 },
 "nbformat": 4,
 "nbformat_minor": 2
}
