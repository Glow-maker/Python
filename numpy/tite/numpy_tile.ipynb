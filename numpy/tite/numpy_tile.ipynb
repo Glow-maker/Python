{
 "cells": [
  {
   "cell_type": "code",
   "execution_count": 1,
   "metadata": {},
   "outputs": [],
   "source": [
    "import numpy as np\n",
    "import pandas as pd"
   ]
  },
  {
   "cell_type": "code",
   "execution_count": 2,
   "metadata": {},
   "outputs": [
    {
     "data": {
      "text/plain": [
       "array([[1, 2, 1, 2],\n",
       "       [3, 4, 3, 4]])"
      ]
     },
     "execution_count": 2,
     "metadata": {},
     "output_type": "execute_result"
    }
   ],
   "source": [
    "b = np.array([[1, 2], [3, 4]])\n",
    "np.tile(b, (1, 2))"
   ]
  },
  {
   "cell_type": "code",
   "execution_count": 3,
   "metadata": {},
   "outputs": [
    {
     "data": {
      "text/plain": [
       "(array([ 4, 10, 18]),\n",
       " array([10, 20, 30]),\n",
       " array([[ 2,  4,  6],\n",
       "        [ 8, 10, 12]]),\n",
       " array([ 2, 11]))"
      ]
     },
     "execution_count": 3,
     "metadata": {},
     "output_type": "execute_result"
    }
   ],
   "source": [
    "import numpy as np\n",
    "\n",
    "# 示例 1: 两个数组的元素级乘法\n",
    "array1 = np.array([1, 2, 3])\n",
    "array2 = np.array([4, 5, 6])\n",
    "result1 = np.multiply(array1, array2)\n",
    "\n",
    "# 示例 2: 与标量的乘法\n",
    "scalar = 10\n",
    "result2 = np.multiply(array1, scalar)\n",
    "\n",
    "# 示例 3: 广播机制\n",
    "array3 = np.array([[1, 2, 3], [4, 5, 6]])\n",
    "scalar2 = 2\n",
    "result3 = np.multiply(array3, scalar2)\n",
    "\n",
    "# 示例 4: 在矩阵乘法中的应用\n",
    "# 先通过元素级乘法处理矩阵的每个元素，然后用 np.sum 或其他函数处理结果\n",
    "# 注意：这不是矩阵乘法的标准做法，仅作为 np.multiply 在矩阵操作上应用的示例\n",
    "matrix1 = np.array([[1, 2], [3, 4]])\n",
    "matrix2 = np.array([[2, 0], [1, 2]])\n",
    "element_wise_multiplication = np.multiply(matrix1, matrix2)\n",
    "\n",
    "result4 = np.sum(element_wise_multiplication, axis=1)\n",
    "\n",
    "result1, result2, result3, result4\n"
   ]
  },
  {
   "cell_type": "code",
   "execution_count": 4,
   "metadata": {},
   "outputs": [
    {
     "name": "stdout",
     "output_type": "stream",
     "text": [
      "[[0.1 0.4 2.1]\n",
      " [1.2 2.  1.8]\n",
      " [3.5 2.4 1.8]]\n"
     ]
    },
    {
     "data": {
      "text/plain": [
       "array([2.6, 5. , 7.7])"
      ]
     },
     "execution_count": 4,
     "metadata": {},
     "output_type": "execute_result"
    }
   ],
   "source": [
    "\n",
    "weight_normaliezed = np.array([[0.1, 0.2, 0.7], [0.3, 0.4, 0.3], [0.5, 0.3, 0.2]])\n",
    "values = np.array([[1, 2, 3], [4, 5, 6], [7, 8, 9]])\n",
    "print(np.multiply(weight_normaliezed, values))\n",
    "np.multiply(weight_normaliezed, values).sum(axis=1)\n",
    "# np.multiply(np.sqrt(weight_normaliezed).reshape([1,-1]), values)\n"
   ]
  },
  {
   "cell_type": "code",
   "execution_count": 5,
   "metadata": {},
   "outputs": [
    {
     "name": "stdout",
     "output_type": "stream",
     "text": [
      "[[0.1 0.2 0.7]\n",
      " [0.3 0.4 0.3]\n",
      " [0.5 0.3 0.2]]\n"
     ]
    },
    {
     "data": {
      "text/html": [
       "<div>\n",
       "<style scoped>\n",
       "    .dataframe tbody tr th:only-of-type {\n",
       "        vertical-align: middle;\n",
       "    }\n",
       "\n",
       "    .dataframe tbody tr th {\n",
       "        vertical-align: top;\n",
       "    }\n",
       "\n",
       "    .dataframe thead th {\n",
       "        text-align: right;\n",
       "    }\n",
       "</style>\n",
       "<table border=\"1\" class=\"dataframe\">\n",
       "  <thead>\n",
       "    <tr style=\"text-align: right;\">\n",
       "      <th></th>\n",
       "      <th>0</th>\n",
       "      <th>1</th>\n",
       "      <th>2</th>\n",
       "    </tr>\n",
       "  </thead>\n",
       "  <tbody>\n",
       "    <tr>\n",
       "      <th>0</th>\n",
       "      <td>0.1</td>\n",
       "      <td>0.2</td>\n",
       "      <td>0.7</td>\n",
       "    </tr>\n",
       "    <tr>\n",
       "      <th>1</th>\n",
       "      <td>0.3</td>\n",
       "      <td>0.4</td>\n",
       "      <td>0.3</td>\n",
       "    </tr>\n",
       "    <tr>\n",
       "      <th>2</th>\n",
       "      <td>0.5</td>\n",
       "      <td>0.3</td>\n",
       "      <td>0.2</td>\n",
       "    </tr>\n",
       "  </tbody>\n",
       "</table>\n",
       "</div>"
      ],
      "text/plain": [
       "     0    1    2\n",
       "0  0.1  0.2  0.7\n",
       "1  0.3  0.4  0.3\n",
       "2  0.5  0.3  0.2"
      ]
     },
     "execution_count": 5,
     "metadata": {},
     "output_type": "execute_result"
    }
   ],
   "source": [
    "print(weight_normaliezed)\n",
    "pd.DataFrame(weight_normaliezed)"
   ]
  },
  {
   "cell_type": "code",
   "execution_count": 28,
   "metadata": {},
   "outputs": [
    {
     "name": "stdout",
     "output_type": "stream",
     "text": [
      "[1. 1. 1.]\n"
     ]
    },
    {
     "data": {
      "text/plain": [
       "0    0.9\n",
       "1    0.9\n",
       "2    1.2\n",
       "dtype: float64"
      ]
     },
     "execution_count": 28,
     "metadata": {},
     "output_type": "execute_result"
    }
   ],
   "source": [
    "print(weight_normaliezed.sum(axis=1))\n",
    "pd.DataFrame(weight_normaliezed).sum(axis=0)"
   ]
  },
  {
   "cell_type": "code",
   "execution_count": 44,
   "metadata": {},
   "outputs": [
    {
     "data": {
      "text/plain": [
       "array([[0.31622777, 0.4472136 , 0.83666003],\n",
       "       [0.54772256, 0.63245553, 0.54772256],\n",
       "       [0.70710678, 0.54772256, 0.4472136 ]])"
      ]
     },
     "execution_count": 44,
     "metadata": {},
     "output_type": "execute_result"
    }
   ],
   "source": [
    "pd.DataFrame(np.sqrt(weight_normaliezed).reshape(-1, 1)).values.reshape(-1, 3)"
   ]
  },
  {
   "cell_type": "code",
   "execution_count": null,
   "metadata": {},
   "outputs": [],
   "source": []
  }
 ],
 "metadata": {
  "kernelspec": {
   "display_name": "python 3.10",
   "language": "python",
   "name": "py310"
  },
  "language_info": {
   "codemirror_mode": {
    "name": "ipython",
    "version": 3
   },
   "file_extension": ".py",
   "mimetype": "text/x-python",
   "name": "python",
   "nbconvert_exporter": "python",
   "pygments_lexer": "ipython3",
   "version": "3.10.13"
  }
 },
 "nbformat": 4,
 "nbformat_minor": 2
}
