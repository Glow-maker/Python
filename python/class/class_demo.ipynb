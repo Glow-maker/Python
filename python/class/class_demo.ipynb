{
 "cells": [
  {
   "cell_type": "code",
   "execution_count": 85,
   "metadata": {},
   "outputs": [],
   "source": [
    "from abc import ABC, abstractmethod\n",
    "class Circle(ABC):\n",
    "    # 加__x的变量变为不可见，只能通过类内部调用，在外部可以通过_object__x查看\n",
    "    __pi = 3.1415926    \n",
    "    def __init__(self, R):\n",
    "        self.r = R\n",
    "\n",
    "    @abstractmethod\n",
    "    def get_area(self):\n",
    "        pass\n",
    "\n",
    "    # 只可以使用类属性cls，无法调用实例属性self\n",
    "    @classmethod\n",
    "    def get_pi(cls):\n",
    "        return cls.__pi\n",
    "    \n",
    "    # 本应在类外面的方法转移到内部，对类无影响\n",
    "    # 不使用该类或者该类的实例\n",
    "    @staticmethod\n",
    "    def is_date_value(date_value):\n",
    "        year, month, day = date_value.split('-')\n",
    "        return int(year)<=3999 and int(month)<=12 and int(day)<=31\n",
    "    \n",
    "    # 类方法转换为类属性（只读）\n",
    "    @property\n",
    "    def pi(self):\n",
    "        return self.__pi"
   ]
  },
  {
   "cell_type": "code",
   "execution_count": 89,
   "metadata": {},
   "outputs": [
    {
     "data": {
      "text/plain": [
       "3.1415926"
      ]
     },
     "execution_count": 89,
     "metadata": {},
     "output_type": "execute_result"
    }
   ],
   "source": [
    "class MyCircle(Circle):\n",
    "    def __init__(self, R):\n",
    "        super().__init__(R)\n",
    "        # super(MyCircle, self).__init__(R) \n",
    "        # 在Python 2中是必需的，因为Python 2的super函数需要两个参数：子类和对象。\n",
    "        self.name = None\n",
    "        self.w = None\n",
    "    def get_area(self):\n",
    "        return self.r**2 * self._Circle__pi\n",
    "## print(Circle.get_pi())\n",
    "circle1 = MyCircle(1)\n",
    "circle1.get_area()"
   ]
  },
  {
   "cell_type": "code",
   "execution_count": 84,
   "metadata": {},
   "outputs": [
    {
     "data": {
      "text/plain": [
       "False"
      ]
     },
     "execution_count": 84,
     "metadata": {},
     "output_type": "execute_result"
    }
   ],
   "source": [
    "Circle.is_date_value('2024-2-231')"
   ]
  },
  {
   "cell_type": "code",
   "execution_count": 28,
   "metadata": {},
   "outputs": [
    {
     "data": {
      "text/plain": [
       "pandas.core.frame.DataFrame"
      ]
     },
     "execution_count": 28,
     "metadata": {},
     "output_type": "execute_result"
    }
   ],
   "source": [
    "import pandas as pd\n",
    "data = pd.DataFrame({'a':[1,2,3],\n",
    "                    'b':[4,5,6]})\n",
    "type(data)"
   ]
  },
  {
   "cell_type": "code",
   "execution_count": 92,
   "metadata": {},
   "outputs": [],
   "source": [
    "class MyCircleDemo(Circle):\n",
    "    def get_area(self):\n",
    "        return super().get_area()"
   ]
  },
  {
   "cell_type": "code",
   "execution_count": 99,
   "metadata": {},
   "outputs": [
    {
     "data": {
      "text/plain": [
       "3.1415926"
      ]
     },
     "execution_count": 99,
     "metadata": {},
     "output_type": "execute_result"
    }
   ],
   "source": [
    "a = MyCircleDemo(1)\n",
    "a._Circle__pi\n",
    "a.get_pi()"
   ]
  },
  {
   "cell_type": "code",
   "execution_count": null,
   "metadata": {},
   "outputs": [],
   "source": []
  }
 ],
 "metadata": {
  "kernelspec": {
   "display_name": "cp310",
   "language": "python",
   "name": "python3"
  },
  "language_info": {
   "codemirror_mode": {
    "name": "ipython",
    "version": 3
   },
   "file_extension": ".py",
   "mimetype": "text/x-python",
   "name": "python",
   "nbconvert_exporter": "python",
   "pygments_lexer": "ipython3",
   "version": "3.10.13"
  }
 },
 "nbformat": 4,
 "nbformat_minor": 2
}
